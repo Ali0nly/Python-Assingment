{
 "cells": [
  {
   "cell_type": "code",
   "execution_count": 3,
   "id": "04f69b16-158c-4ba3-9dd7-d26b75b1716d",
   "metadata": {},
   "outputs": [],
   "source": [
    "#Load and Display Data → Read the dataset and print the first 5 rows.\n"
   ]
  },
  {
   "cell_type": "code",
   "execution_count": 97,
   "id": "d79695c7-78e3-4987-b8cb-b411957a83ed",
   "metadata": {},
   "outputs": [],
   "source": [
    "import numpy as np\n",
    "import pandas as pd\n",
    "import matplotlib.pyplot as plt"
   ]
  },
  {
   "cell_type": "code",
   "execution_count": 98,
   "id": "37ed1546-273c-4a15-b73f-385044906e36",
   "metadata": {},
   "outputs": [],
   "source": [
    "df=pd.read_csv(\"covid_19_country_wise_latest.csv\")"
   ]
  },
  {
   "cell_type": "code",
   "execution_count": 99,
   "id": "5b112ae9-43d2-4dfd-b809-ccf9817a354d",
   "metadata": {},
   "outputs": [
    {
     "data": {
      "text/html": [
       "<div>\n",
       "<style scoped>\n",
       "    .dataframe tbody tr th:only-of-type {\n",
       "        vertical-align: middle;\n",
       "    }\n",
       "\n",
       "    .dataframe tbody tr th {\n",
       "        vertical-align: top;\n",
       "    }\n",
       "\n",
       "    .dataframe thead th {\n",
       "        text-align: right;\n",
       "    }\n",
       "</style>\n",
       "<table border=\"1\" class=\"dataframe\">\n",
       "  <thead>\n",
       "    <tr style=\"text-align: right;\">\n",
       "      <th></th>\n",
       "      <th>Unnamed: 0</th>\n",
       "      <th>Country/Region</th>\n",
       "      <th>Confirmed</th>\n",
       "      <th>Deaths</th>\n",
       "      <th>Recovered</th>\n",
       "      <th>Active</th>\n",
       "      <th>New cases</th>\n",
       "      <th>New deaths</th>\n",
       "      <th>New recovered</th>\n",
       "      <th>Deaths / 100 Cases</th>\n",
       "      <th>Recovered / 100 Cases</th>\n",
       "      <th>Deaths / 100 Recovered</th>\n",
       "      <th>Confirmed last week</th>\n",
       "      <th>1 week change</th>\n",
       "      <th>1 week % increase</th>\n",
       "      <th>WHO Region</th>\n",
       "    </tr>\n",
       "  </thead>\n",
       "  <tbody>\n",
       "    <tr>\n",
       "      <th>0</th>\n",
       "      <td>0</td>\n",
       "      <td>Afghanistan</td>\n",
       "      <td>36263</td>\n",
       "      <td>1269</td>\n",
       "      <td>25198</td>\n",
       "      <td>9796</td>\n",
       "      <td>106.0</td>\n",
       "      <td>10.0</td>\n",
       "      <td>18</td>\n",
       "      <td>3.50</td>\n",
       "      <td>69.49</td>\n",
       "      <td>5.04</td>\n",
       "      <td>35526</td>\n",
       "      <td>737</td>\n",
       "      <td>2.07</td>\n",
       "      <td>Eastern Mediterranean</td>\n",
       "    </tr>\n",
       "    <tr>\n",
       "      <th>1</th>\n",
       "      <td>1</td>\n",
       "      <td>Albania</td>\n",
       "      <td>4880</td>\n",
       "      <td>144</td>\n",
       "      <td>2745</td>\n",
       "      <td>1991</td>\n",
       "      <td>117.0</td>\n",
       "      <td>6.0</td>\n",
       "      <td>63</td>\n",
       "      <td>2.95</td>\n",
       "      <td>56.25</td>\n",
       "      <td>5.25</td>\n",
       "      <td>4171</td>\n",
       "      <td>709</td>\n",
       "      <td>17.00</td>\n",
       "      <td>Europe</td>\n",
       "    </tr>\n",
       "    <tr>\n",
       "      <th>2</th>\n",
       "      <td>2</td>\n",
       "      <td>Algeria</td>\n",
       "      <td>27973</td>\n",
       "      <td>1163</td>\n",
       "      <td>18837</td>\n",
       "      <td>7973</td>\n",
       "      <td>616.0</td>\n",
       "      <td>8.0</td>\n",
       "      <td>749</td>\n",
       "      <td>4.16</td>\n",
       "      <td>67.34</td>\n",
       "      <td>6.17</td>\n",
       "      <td>23691</td>\n",
       "      <td>4282</td>\n",
       "      <td>18.07</td>\n",
       "      <td>Africa</td>\n",
       "    </tr>\n",
       "    <tr>\n",
       "      <th>3</th>\n",
       "      <td>3</td>\n",
       "      <td>Andorra</td>\n",
       "      <td>907</td>\n",
       "      <td>52</td>\n",
       "      <td>803</td>\n",
       "      <td>52</td>\n",
       "      <td>10.0</td>\n",
       "      <td>0.0</td>\n",
       "      <td>0</td>\n",
       "      <td>5.73</td>\n",
       "      <td>88.53</td>\n",
       "      <td>6.48</td>\n",
       "      <td>884</td>\n",
       "      <td>23</td>\n",
       "      <td>2.60</td>\n",
       "      <td>Europe</td>\n",
       "    </tr>\n",
       "    <tr>\n",
       "      <th>4</th>\n",
       "      <td>4</td>\n",
       "      <td>Angola</td>\n",
       "      <td>950</td>\n",
       "      <td>41</td>\n",
       "      <td>242</td>\n",
       "      <td>667</td>\n",
       "      <td>18.0</td>\n",
       "      <td>1.0</td>\n",
       "      <td>0</td>\n",
       "      <td>4.32</td>\n",
       "      <td>25.47</td>\n",
       "      <td>16.94</td>\n",
       "      <td>749</td>\n",
       "      <td>201</td>\n",
       "      <td>26.84</td>\n",
       "      <td>Africa</td>\n",
       "    </tr>\n",
       "  </tbody>\n",
       "</table>\n",
       "</div>"
      ],
      "text/plain": [
       "   Unnamed: 0 Country/Region  Confirmed Deaths  Recovered  Active  New cases  \\\n",
       "0           0    Afghanistan      36263   1269      25198    9796      106.0   \n",
       "1           1        Albania       4880    144       2745    1991      117.0   \n",
       "2           2        Algeria      27973   1163      18837    7973      616.0   \n",
       "3           3        Andorra        907     52        803      52       10.0   \n",
       "4           4         Angola        950     41        242     667       18.0   \n",
       "\n",
       "   New deaths  New recovered  Deaths / 100 Cases  Recovered / 100 Cases  \\\n",
       "0        10.0             18                3.50                  69.49   \n",
       "1         6.0             63                2.95                  56.25   \n",
       "2         8.0            749                4.16                  67.34   \n",
       "3         0.0              0                5.73                  88.53   \n",
       "4         1.0              0                4.32                  25.47   \n",
       "\n",
       "   Deaths / 100 Recovered  Confirmed last week  1 week change  \\\n",
       "0                    5.04                35526            737   \n",
       "1                    5.25                 4171            709   \n",
       "2                    6.17                23691           4282   \n",
       "3                    6.48                  884             23   \n",
       "4                   16.94                  749            201   \n",
       "\n",
       "   1 week % increase             WHO Region  \n",
       "0               2.07  Eastern Mediterranean  \n",
       "1              17.00                 Europe  \n",
       "2              18.07                 Africa  \n",
       "3               2.60                 Europe  \n",
       "4              26.84                 Africa  "
      ]
     },
     "execution_count": 99,
     "metadata": {},
     "output_type": "execute_result"
    }
   ],
   "source": [
    "df.head()"
   ]
  },
  {
   "cell_type": "code",
   "execution_count": 100,
   "id": "bdbb529f-744a-46df-8a0c-e5890b3e9770",
   "metadata": {},
   "outputs": [],
   "source": [
    "#. Set the Dataset index is Unnamed: 0"
   ]
  },
  {
   "cell_type": "code",
   "execution_count": 105,
   "id": "4bd2fc82-5454-423f-9b0b-3392e057d5b8",
   "metadata": {},
   "outputs": [],
   "source": [
    "df.set_index('Unnamed: 0', inplace=True)"
   ]
  },
  {
   "cell_type": "code",
   "execution_count": 106,
   "id": "008c0c7d-1726-4fcb-afa7-63ba8b46ed76",
   "metadata": {},
   "outputs": [
    {
     "data": {
      "text/html": [
       "<div>\n",
       "<style scoped>\n",
       "    .dataframe tbody tr th:only-of-type {\n",
       "        vertical-align: middle;\n",
       "    }\n",
       "\n",
       "    .dataframe tbody tr th {\n",
       "        vertical-align: top;\n",
       "    }\n",
       "\n",
       "    .dataframe thead th {\n",
       "        text-align: right;\n",
       "    }\n",
       "</style>\n",
       "<table border=\"1\" class=\"dataframe\">\n",
       "  <thead>\n",
       "    <tr style=\"text-align: right;\">\n",
       "      <th></th>\n",
       "      <th>Country/Region</th>\n",
       "      <th>Confirmed</th>\n",
       "      <th>Deaths</th>\n",
       "      <th>Recovered</th>\n",
       "      <th>Active</th>\n",
       "      <th>New cases</th>\n",
       "      <th>New deaths</th>\n",
       "      <th>New recovered</th>\n",
       "      <th>Deaths / 100 Cases</th>\n",
       "      <th>Recovered / 100 Cases</th>\n",
       "      <th>Deaths / 100 Recovered</th>\n",
       "      <th>Confirmed last week</th>\n",
       "      <th>1 week change</th>\n",
       "      <th>1 week % increase</th>\n",
       "      <th>WHO Region</th>\n",
       "    </tr>\n",
       "    <tr>\n",
       "      <th>Unnamed: 0</th>\n",
       "      <th></th>\n",
       "      <th></th>\n",
       "      <th></th>\n",
       "      <th></th>\n",
       "      <th></th>\n",
       "      <th></th>\n",
       "      <th></th>\n",
       "      <th></th>\n",
       "      <th></th>\n",
       "      <th></th>\n",
       "      <th></th>\n",
       "      <th></th>\n",
       "      <th></th>\n",
       "      <th></th>\n",
       "      <th></th>\n",
       "    </tr>\n",
       "  </thead>\n",
       "  <tbody>\n",
       "    <tr>\n",
       "      <th>0</th>\n",
       "      <td>Afghanistan</td>\n",
       "      <td>36263</td>\n",
       "      <td>1269</td>\n",
       "      <td>25198</td>\n",
       "      <td>9796</td>\n",
       "      <td>106.0</td>\n",
       "      <td>10.0</td>\n",
       "      <td>18</td>\n",
       "      <td>3.50</td>\n",
       "      <td>69.49</td>\n",
       "      <td>5.04</td>\n",
       "      <td>35526</td>\n",
       "      <td>737</td>\n",
       "      <td>2.07</td>\n",
       "      <td>Eastern Mediterranean</td>\n",
       "    </tr>\n",
       "    <tr>\n",
       "      <th>1</th>\n",
       "      <td>Albania</td>\n",
       "      <td>4880</td>\n",
       "      <td>144</td>\n",
       "      <td>2745</td>\n",
       "      <td>1991</td>\n",
       "      <td>117.0</td>\n",
       "      <td>6.0</td>\n",
       "      <td>63</td>\n",
       "      <td>2.95</td>\n",
       "      <td>56.25</td>\n",
       "      <td>5.25</td>\n",
       "      <td>4171</td>\n",
       "      <td>709</td>\n",
       "      <td>17.00</td>\n",
       "      <td>Europe</td>\n",
       "    </tr>\n",
       "    <tr>\n",
       "      <th>2</th>\n",
       "      <td>Algeria</td>\n",
       "      <td>27973</td>\n",
       "      <td>1163</td>\n",
       "      <td>18837</td>\n",
       "      <td>7973</td>\n",
       "      <td>616.0</td>\n",
       "      <td>8.0</td>\n",
       "      <td>749</td>\n",
       "      <td>4.16</td>\n",
       "      <td>67.34</td>\n",
       "      <td>6.17</td>\n",
       "      <td>23691</td>\n",
       "      <td>4282</td>\n",
       "      <td>18.07</td>\n",
       "      <td>Africa</td>\n",
       "    </tr>\n",
       "    <tr>\n",
       "      <th>3</th>\n",
       "      <td>Andorra</td>\n",
       "      <td>907</td>\n",
       "      <td>52</td>\n",
       "      <td>803</td>\n",
       "      <td>52</td>\n",
       "      <td>10.0</td>\n",
       "      <td>0.0</td>\n",
       "      <td>0</td>\n",
       "      <td>5.73</td>\n",
       "      <td>88.53</td>\n",
       "      <td>6.48</td>\n",
       "      <td>884</td>\n",
       "      <td>23</td>\n",
       "      <td>2.60</td>\n",
       "      <td>Europe</td>\n",
       "    </tr>\n",
       "    <tr>\n",
       "      <th>4</th>\n",
       "      <td>Angola</td>\n",
       "      <td>950</td>\n",
       "      <td>41</td>\n",
       "      <td>242</td>\n",
       "      <td>667</td>\n",
       "      <td>18.0</td>\n",
       "      <td>1.0</td>\n",
       "      <td>0</td>\n",
       "      <td>4.32</td>\n",
       "      <td>25.47</td>\n",
       "      <td>16.94</td>\n",
       "      <td>749</td>\n",
       "      <td>201</td>\n",
       "      <td>26.84</td>\n",
       "      <td>Africa</td>\n",
       "    </tr>\n",
       "  </tbody>\n",
       "</table>\n",
       "</div>"
      ],
      "text/plain": [
       "           Country/Region  Confirmed Deaths  Recovered  Active  New cases  \\\n",
       "Unnamed: 0                                                                  \n",
       "0             Afghanistan      36263   1269      25198    9796      106.0   \n",
       "1                 Albania       4880    144       2745    1991      117.0   \n",
       "2                 Algeria      27973   1163      18837    7973      616.0   \n",
       "3                 Andorra        907     52        803      52       10.0   \n",
       "4                  Angola        950     41        242     667       18.0   \n",
       "\n",
       "            New deaths  New recovered  Deaths / 100 Cases  \\\n",
       "Unnamed: 0                                                  \n",
       "0                 10.0             18                3.50   \n",
       "1                  6.0             63                2.95   \n",
       "2                  8.0            749                4.16   \n",
       "3                  0.0              0                5.73   \n",
       "4                  1.0              0                4.32   \n",
       "\n",
       "            Recovered / 100 Cases  Deaths / 100 Recovered  \\\n",
       "Unnamed: 0                                                  \n",
       "0                           69.49                    5.04   \n",
       "1                           56.25                    5.25   \n",
       "2                           67.34                    6.17   \n",
       "3                           88.53                    6.48   \n",
       "4                           25.47                   16.94   \n",
       "\n",
       "            Confirmed last week  1 week change  1 week % increase  \\\n",
       "Unnamed: 0                                                          \n",
       "0                         35526            737               2.07   \n",
       "1                          4171            709              17.00   \n",
       "2                         23691           4282              18.07   \n",
       "3                           884             23               2.60   \n",
       "4                           749            201              26.84   \n",
       "\n",
       "                       WHO Region  \n",
       "Unnamed: 0                         \n",
       "0           Eastern Mediterranean  \n",
       "1                          Europe  \n",
       "2                          Africa  \n",
       "3                          Europe  \n",
       "4                          Africa  "
      ]
     },
     "execution_count": 106,
     "metadata": {},
     "output_type": "execute_result"
    }
   ],
   "source": [
    "df.head()"
   ]
  },
  {
   "cell_type": "code",
   "execution_count": 108,
   "id": "9261b083-8e41-48c2-8c3b-b2ac60cb6108",
   "metadata": {},
   "outputs": [],
   "source": [
    "#Now replace the index column Unnamed: 0 name with index"
   ]
  },
  {
   "cell_type": "code",
   "execution_count": 110,
   "id": "e5470b5c-204b-4375-bd3f-e73193cef003",
   "metadata": {},
   "outputs": [],
   "source": [
    "df.index.name = 'Index'"
   ]
  },
  {
   "cell_type": "code",
   "execution_count": 112,
   "id": "adca2ad8-ee08-44cb-b891-aa62b4adc69b",
   "metadata": {},
   "outputs": [
    {
     "data": {
      "text/html": [
       "<div>\n",
       "<style scoped>\n",
       "    .dataframe tbody tr th:only-of-type {\n",
       "        vertical-align: middle;\n",
       "    }\n",
       "\n",
       "    .dataframe tbody tr th {\n",
       "        vertical-align: top;\n",
       "    }\n",
       "\n",
       "    .dataframe thead th {\n",
       "        text-align: right;\n",
       "    }\n",
       "</style>\n",
       "<table border=\"1\" class=\"dataframe\">\n",
       "  <thead>\n",
       "    <tr style=\"text-align: right;\">\n",
       "      <th></th>\n",
       "      <th>Country/Region</th>\n",
       "      <th>Confirmed</th>\n",
       "      <th>Deaths</th>\n",
       "      <th>Recovered</th>\n",
       "      <th>Active</th>\n",
       "      <th>New cases</th>\n",
       "      <th>New deaths</th>\n",
       "      <th>New recovered</th>\n",
       "      <th>Deaths / 100 Cases</th>\n",
       "      <th>Recovered / 100 Cases</th>\n",
       "      <th>Deaths / 100 Recovered</th>\n",
       "      <th>Confirmed last week</th>\n",
       "      <th>1 week change</th>\n",
       "      <th>1 week % increase</th>\n",
       "      <th>WHO Region</th>\n",
       "    </tr>\n",
       "    <tr>\n",
       "      <th>Index</th>\n",
       "      <th></th>\n",
       "      <th></th>\n",
       "      <th></th>\n",
       "      <th></th>\n",
       "      <th></th>\n",
       "      <th></th>\n",
       "      <th></th>\n",
       "      <th></th>\n",
       "      <th></th>\n",
       "      <th></th>\n",
       "      <th></th>\n",
       "      <th></th>\n",
       "      <th></th>\n",
       "      <th></th>\n",
       "      <th></th>\n",
       "    </tr>\n",
       "  </thead>\n",
       "  <tbody>\n",
       "    <tr>\n",
       "      <th>0</th>\n",
       "      <td>Afghanistan</td>\n",
       "      <td>36263</td>\n",
       "      <td>1269</td>\n",
       "      <td>25198</td>\n",
       "      <td>9796</td>\n",
       "      <td>106.0</td>\n",
       "      <td>10.0</td>\n",
       "      <td>18</td>\n",
       "      <td>3.50</td>\n",
       "      <td>69.49</td>\n",
       "      <td>5.04</td>\n",
       "      <td>35526</td>\n",
       "      <td>737</td>\n",
       "      <td>2.07</td>\n",
       "      <td>Eastern Mediterranean</td>\n",
       "    </tr>\n",
       "    <tr>\n",
       "      <th>1</th>\n",
       "      <td>Albania</td>\n",
       "      <td>4880</td>\n",
       "      <td>144</td>\n",
       "      <td>2745</td>\n",
       "      <td>1991</td>\n",
       "      <td>117.0</td>\n",
       "      <td>6.0</td>\n",
       "      <td>63</td>\n",
       "      <td>2.95</td>\n",
       "      <td>56.25</td>\n",
       "      <td>5.25</td>\n",
       "      <td>4171</td>\n",
       "      <td>709</td>\n",
       "      <td>17.00</td>\n",
       "      <td>Europe</td>\n",
       "    </tr>\n",
       "    <tr>\n",
       "      <th>2</th>\n",
       "      <td>Algeria</td>\n",
       "      <td>27973</td>\n",
       "      <td>1163</td>\n",
       "      <td>18837</td>\n",
       "      <td>7973</td>\n",
       "      <td>616.0</td>\n",
       "      <td>8.0</td>\n",
       "      <td>749</td>\n",
       "      <td>4.16</td>\n",
       "      <td>67.34</td>\n",
       "      <td>6.17</td>\n",
       "      <td>23691</td>\n",
       "      <td>4282</td>\n",
       "      <td>18.07</td>\n",
       "      <td>Africa</td>\n",
       "    </tr>\n",
       "    <tr>\n",
       "      <th>3</th>\n",
       "      <td>Andorra</td>\n",
       "      <td>907</td>\n",
       "      <td>52</td>\n",
       "      <td>803</td>\n",
       "      <td>52</td>\n",
       "      <td>10.0</td>\n",
       "      <td>0.0</td>\n",
       "      <td>0</td>\n",
       "      <td>5.73</td>\n",
       "      <td>88.53</td>\n",
       "      <td>6.48</td>\n",
       "      <td>884</td>\n",
       "      <td>23</td>\n",
       "      <td>2.60</td>\n",
       "      <td>Europe</td>\n",
       "    </tr>\n",
       "    <tr>\n",
       "      <th>4</th>\n",
       "      <td>Angola</td>\n",
       "      <td>950</td>\n",
       "      <td>41</td>\n",
       "      <td>242</td>\n",
       "      <td>667</td>\n",
       "      <td>18.0</td>\n",
       "      <td>1.0</td>\n",
       "      <td>0</td>\n",
       "      <td>4.32</td>\n",
       "      <td>25.47</td>\n",
       "      <td>16.94</td>\n",
       "      <td>749</td>\n",
       "      <td>201</td>\n",
       "      <td>26.84</td>\n",
       "      <td>Africa</td>\n",
       "    </tr>\n",
       "  </tbody>\n",
       "</table>\n",
       "</div>"
      ],
      "text/plain": [
       "      Country/Region  Confirmed Deaths  Recovered  Active  New cases  \\\n",
       "Index                                                                  \n",
       "0        Afghanistan      36263   1269      25198    9796      106.0   \n",
       "1            Albania       4880    144       2745    1991      117.0   \n",
       "2            Algeria      27973   1163      18837    7973      616.0   \n",
       "3            Andorra        907     52        803      52       10.0   \n",
       "4             Angola        950     41        242     667       18.0   \n",
       "\n",
       "       New deaths  New recovered  Deaths / 100 Cases  Recovered / 100 Cases  \\\n",
       "Index                                                                         \n",
       "0            10.0             18                3.50                  69.49   \n",
       "1             6.0             63                2.95                  56.25   \n",
       "2             8.0            749                4.16                  67.34   \n",
       "3             0.0              0                5.73                  88.53   \n",
       "4             1.0              0                4.32                  25.47   \n",
       "\n",
       "       Deaths / 100 Recovered  Confirmed last week  1 week change  \\\n",
       "Index                                                               \n",
       "0                        5.04                35526            737   \n",
       "1                        5.25                 4171            709   \n",
       "2                        6.17                23691           4282   \n",
       "3                        6.48                  884             23   \n",
       "4                       16.94                  749            201   \n",
       "\n",
       "       1 week % increase             WHO Region  \n",
       "Index                                            \n",
       "0                   2.07  Eastern Mediterranean  \n",
       "1                  17.00                 Europe  \n",
       "2                  18.07                 Africa  \n",
       "3                   2.60                 Europe  \n",
       "4                  26.84                 Africa  "
      ]
     },
     "execution_count": 112,
     "metadata": {},
     "output_type": "execute_result"
    }
   ],
   "source": [
    "df.head()"
   ]
  },
  {
   "cell_type": "code",
   "execution_count": 114,
   "id": "e85ce503-da06-48cb-bd3d-742a53da8295",
   "metadata": {},
   "outputs": [],
   "source": [
    "#Create Function that take dataset columns and replace whitespace with Underscore and update dataset automatically and the pass the dataset"
   ]
  },
  {
   "cell_type": "code",
   "execution_count": 115,
   "id": "801cf1e8-a920-4e9a-abb4-597fdba5e9a1",
   "metadata": {},
   "outputs": [],
   "source": [
    "def clean_column_names(df):\n",
    "    df.columns = df.columns.str.replace(' ', '_')\n",
    "    return df"
   ]
  },
  {
   "cell_type": "code",
   "execution_count": 116,
   "id": "554aec4e-ae6b-4a48-8104-585c6b18684f",
   "metadata": {},
   "outputs": [
    {
     "data": {
      "text/html": [
       "<div>\n",
       "<style scoped>\n",
       "    .dataframe tbody tr th:only-of-type {\n",
       "        vertical-align: middle;\n",
       "    }\n",
       "\n",
       "    .dataframe tbody tr th {\n",
       "        vertical-align: top;\n",
       "    }\n",
       "\n",
       "    .dataframe thead th {\n",
       "        text-align: right;\n",
       "    }\n",
       "</style>\n",
       "<table border=\"1\" class=\"dataframe\">\n",
       "  <thead>\n",
       "    <tr style=\"text-align: right;\">\n",
       "      <th></th>\n",
       "      <th>Country/Region</th>\n",
       "      <th>Confirmed</th>\n",
       "      <th>Deaths</th>\n",
       "      <th>Recovered</th>\n",
       "      <th>Active</th>\n",
       "      <th>New_cases</th>\n",
       "      <th>New_deaths</th>\n",
       "      <th>New_recovered</th>\n",
       "      <th>Deaths_/_100_Cases</th>\n",
       "      <th>Recovered_/_100_Cases</th>\n",
       "      <th>Deaths_/_100_Recovered</th>\n",
       "      <th>Confirmed_last_week</th>\n",
       "      <th>1_week_change</th>\n",
       "      <th>1_week_%_increase</th>\n",
       "      <th>WHO_Region</th>\n",
       "    </tr>\n",
       "    <tr>\n",
       "      <th>Index</th>\n",
       "      <th></th>\n",
       "      <th></th>\n",
       "      <th></th>\n",
       "      <th></th>\n",
       "      <th></th>\n",
       "      <th></th>\n",
       "      <th></th>\n",
       "      <th></th>\n",
       "      <th></th>\n",
       "      <th></th>\n",
       "      <th></th>\n",
       "      <th></th>\n",
       "      <th></th>\n",
       "      <th></th>\n",
       "      <th></th>\n",
       "    </tr>\n",
       "  </thead>\n",
       "  <tbody>\n",
       "    <tr>\n",
       "      <th>0</th>\n",
       "      <td>Afghanistan</td>\n",
       "      <td>36263</td>\n",
       "      <td>1269</td>\n",
       "      <td>25198</td>\n",
       "      <td>9796</td>\n",
       "      <td>106.0</td>\n",
       "      <td>10.0</td>\n",
       "      <td>18</td>\n",
       "      <td>3.50</td>\n",
       "      <td>69.49</td>\n",
       "      <td>5.04</td>\n",
       "      <td>35526</td>\n",
       "      <td>737</td>\n",
       "      <td>2.07</td>\n",
       "      <td>Eastern Mediterranean</td>\n",
       "    </tr>\n",
       "    <tr>\n",
       "      <th>1</th>\n",
       "      <td>Albania</td>\n",
       "      <td>4880</td>\n",
       "      <td>144</td>\n",
       "      <td>2745</td>\n",
       "      <td>1991</td>\n",
       "      <td>117.0</td>\n",
       "      <td>6.0</td>\n",
       "      <td>63</td>\n",
       "      <td>2.95</td>\n",
       "      <td>56.25</td>\n",
       "      <td>5.25</td>\n",
       "      <td>4171</td>\n",
       "      <td>709</td>\n",
       "      <td>17.00</td>\n",
       "      <td>Europe</td>\n",
       "    </tr>\n",
       "    <tr>\n",
       "      <th>2</th>\n",
       "      <td>Algeria</td>\n",
       "      <td>27973</td>\n",
       "      <td>1163</td>\n",
       "      <td>18837</td>\n",
       "      <td>7973</td>\n",
       "      <td>616.0</td>\n",
       "      <td>8.0</td>\n",
       "      <td>749</td>\n",
       "      <td>4.16</td>\n",
       "      <td>67.34</td>\n",
       "      <td>6.17</td>\n",
       "      <td>23691</td>\n",
       "      <td>4282</td>\n",
       "      <td>18.07</td>\n",
       "      <td>Africa</td>\n",
       "    </tr>\n",
       "    <tr>\n",
       "      <th>3</th>\n",
       "      <td>Andorra</td>\n",
       "      <td>907</td>\n",
       "      <td>52</td>\n",
       "      <td>803</td>\n",
       "      <td>52</td>\n",
       "      <td>10.0</td>\n",
       "      <td>0.0</td>\n",
       "      <td>0</td>\n",
       "      <td>5.73</td>\n",
       "      <td>88.53</td>\n",
       "      <td>6.48</td>\n",
       "      <td>884</td>\n",
       "      <td>23</td>\n",
       "      <td>2.60</td>\n",
       "      <td>Europe</td>\n",
       "    </tr>\n",
       "    <tr>\n",
       "      <th>4</th>\n",
       "      <td>Angola</td>\n",
       "      <td>950</td>\n",
       "      <td>41</td>\n",
       "      <td>242</td>\n",
       "      <td>667</td>\n",
       "      <td>18.0</td>\n",
       "      <td>1.0</td>\n",
       "      <td>0</td>\n",
       "      <td>4.32</td>\n",
       "      <td>25.47</td>\n",
       "      <td>16.94</td>\n",
       "      <td>749</td>\n",
       "      <td>201</td>\n",
       "      <td>26.84</td>\n",
       "      <td>Africa</td>\n",
       "    </tr>\n",
       "  </tbody>\n",
       "</table>\n",
       "</div>"
      ],
      "text/plain": [
       "      Country/Region  Confirmed Deaths  Recovered  Active  New_cases  \\\n",
       "Index                                                                  \n",
       "0        Afghanistan      36263   1269      25198    9796      106.0   \n",
       "1            Albania       4880    144       2745    1991      117.0   \n",
       "2            Algeria      27973   1163      18837    7973      616.0   \n",
       "3            Andorra        907     52        803      52       10.0   \n",
       "4             Angola        950     41        242     667       18.0   \n",
       "\n",
       "       New_deaths  New_recovered  Deaths_/_100_Cases  Recovered_/_100_Cases  \\\n",
       "Index                                                                         \n",
       "0            10.0             18                3.50                  69.49   \n",
       "1             6.0             63                2.95                  56.25   \n",
       "2             8.0            749                4.16                  67.34   \n",
       "3             0.0              0                5.73                  88.53   \n",
       "4             1.0              0                4.32                  25.47   \n",
       "\n",
       "       Deaths_/_100_Recovered  Confirmed_last_week  1_week_change  \\\n",
       "Index                                                               \n",
       "0                        5.04                35526            737   \n",
       "1                        5.25                 4171            709   \n",
       "2                        6.17                23691           4282   \n",
       "3                        6.48                  884             23   \n",
       "4                       16.94                  749            201   \n",
       "\n",
       "       1_week_%_increase             WHO_Region  \n",
       "Index                                            \n",
       "0                   2.07  Eastern Mediterranean  \n",
       "1                  17.00                 Europe  \n",
       "2                  18.07                 Africa  \n",
       "3                   2.60                 Europe  \n",
       "4                  26.84                 Africa  "
      ]
     },
     "execution_count": 116,
     "metadata": {},
     "output_type": "execute_result"
    }
   ],
   "source": [
    "df = clean_column_names(df)\n",
    "df.head()"
   ]
  },
  {
   "cell_type": "code",
   "execution_count": 118,
   "id": "8e98e80e-accb-4485-bd4f-1654cb64daa0",
   "metadata": {},
   "outputs": [],
   "source": [
    "#Check Basic Information → Find column names, data types, and missing values."
   ]
  },
  {
   "cell_type": "code",
   "execution_count": 121,
   "id": "30bcdc08-2b59-4316-87ad-720da370e5de",
   "metadata": {},
   "outputs": [
    {
     "name": "stdout",
     "output_type": "stream",
     "text": [
      "Column Names: ['Country/Region', 'Confirmed', 'Deaths', 'Recovered', 'Active', 'New_cases', 'New_deaths', 'New_recovered', 'Deaths_/_100_Cases', 'Recovered_/_100_Cases', 'Deaths_/_100_Recovered', 'Confirmed_last_week', '1_week_change', '1_week_%_increase', 'WHO_Region']\n",
      "\n",
      "Data Types:\n",
      " Country/Region             object\n",
      "Confirmed                   int64\n",
      "Deaths                     object\n",
      "Recovered                   int64\n",
      "Active                      int64\n",
      "New_cases                 float64\n",
      "New_deaths                float64\n",
      "New_recovered               int64\n",
      "Deaths_/_100_Cases        float64\n",
      "Recovered_/_100_Cases     float64\n",
      "Deaths_/_100_Recovered    float64\n",
      "Confirmed_last_week         int64\n",
      "1_week_change               int64\n",
      "1_week_%_increase         float64\n",
      "WHO_Region                 object\n",
      "dtype: object\n",
      "\n",
      "Missing Values:\n",
      " Country/Region             0\n",
      "Confirmed                  0\n",
      "Deaths                     0\n",
      "Recovered                  0\n",
      "Active                     0\n",
      "New_cases                 10\n",
      "New_deaths                10\n",
      "New_recovered              0\n",
      "Deaths_/_100_Cases         0\n",
      "Recovered_/_100_Cases      0\n",
      "Deaths_/_100_Recovered     0\n",
      "Confirmed_last_week        0\n",
      "1_week_change              0\n",
      "1_week_%_increase          0\n",
      "WHO_Region                 0\n",
      "dtype: int64\n"
     ]
    }
   ],
   "source": [
    "print(\"Column Names:\", df.columns.tolist())\n",
    "print(\"\\nData Types:\\n\", df.dtypes)\n",
    "print(\"\\nMissing Values:\\n\", df.isnull().sum())"
   ]
  },
  {
   "cell_type": "code",
   "execution_count": 124,
   "id": "3d1fb6f0-f840-4ed2-88d5-c61e45fb606b",
   "metadata": {},
   "outputs": [],
   "source": [
    "#fill the nan values with the mean of the column"
   ]
  },
  {
   "cell_type": "code",
   "execution_count": 127,
   "id": "c9591fc4-0b0c-4bb9-aa68-eaf2cca4e3f5",
   "metadata": {},
   "outputs": [],
   "source": [
    "df.fillna(df.select_dtypes(include=['number']).mean(), inplace=True)"
   ]
  },
  {
   "cell_type": "code",
   "execution_count": 129,
   "id": "b0b01158-aa61-45a8-b4ff-314dca863177",
   "metadata": {},
   "outputs": [
    {
     "data": {
      "text/plain": [
       "<bound method NDFrame.head of            Country/Region  Confirmed Deaths  Recovered  Active  New_cases  \\\n",
       "Index                                                                       \n",
       "0             Afghanistan      36263   1269      25198    9796      106.0   \n",
       "1                 Albania       4880    144       2745    1991      117.0   \n",
       "2                 Algeria      27973   1163      18837    7973      616.0   \n",
       "3                 Andorra        907     52        803      52       10.0   \n",
       "4                  Angola        950     41        242     667       18.0   \n",
       "...                   ...        ...    ...        ...     ...        ...   \n",
       "182    West Bank and Gaza      10621     78       3752    6791      152.0   \n",
       "183        Western Sahara         10      1          8       1        0.0   \n",
       "184                 Yemen       1691    483        833     375       10.0   \n",
       "185                Zambia       4552    140       2815    1597       71.0   \n",
       "186              Zimbabwe       2704    non        542    2126      192.0   \n",
       "\n",
       "       New_deaths  New_recovered  Deaths_/_100_Cases  Recovered_/_100_Cases  \\\n",
       "Index                                                                         \n",
       "0            10.0             18                3.50                  69.49   \n",
       "1             6.0             63                2.95                  56.25   \n",
       "2             8.0            749                4.16                  67.34   \n",
       "3             0.0              0                5.73                  88.53   \n",
       "4             1.0              0                4.32                  25.47   \n",
       "...           ...            ...                 ...                    ...   \n",
       "182           2.0              0                0.73                  35.33   \n",
       "183           0.0              0               10.00                  80.00   \n",
       "184           4.0             36               28.56                  49.26   \n",
       "185           1.0            465                3.08                  61.84   \n",
       "186           2.0             24                1.33                  20.04   \n",
       "\n",
       "       Deaths_/_100_Recovered  Confirmed_last_week  1_week_change  \\\n",
       "Index                                                               \n",
       "0                        5.04                35526            737   \n",
       "1                        5.25                 4171            709   \n",
       "2                        6.17                23691           4282   \n",
       "3                        6.48                  884             23   \n",
       "4                       16.94                  749            201   \n",
       "...                       ...                  ...            ...   \n",
       "182                      2.08                 8916           1705   \n",
       "183                     12.50                   10              0   \n",
       "184                     57.98                 1619             72   \n",
       "185                      4.97                 3326           1226   \n",
       "186                      6.64                 1713            991   \n",
       "\n",
       "       1_week_%_increase             WHO_Region  \n",
       "Index                                            \n",
       "0                   2.07  Eastern Mediterranean  \n",
       "1                  17.00                 Europe  \n",
       "2                  18.07                 Africa  \n",
       "3                   2.60                 Europe  \n",
       "4                  26.84                 Africa  \n",
       "...                  ...                    ...  \n",
       "182                19.12  Eastern Mediterranean  \n",
       "183                 0.00                 Africa  \n",
       "184                 4.45  Eastern Mediterranean  \n",
       "185                36.86                 Africa  \n",
       "186                57.85                 Africa  \n",
       "\n",
       "[187 rows x 15 columns]>"
      ]
     },
     "execution_count": 129,
     "metadata": {},
     "output_type": "execute_result"
    }
   ],
   "source": [
    "df.head"
   ]
  },
  {
   "cell_type": "code",
   "execution_count": 131,
   "id": "1efc41cb-d4da-4e7b-b15b-c802728e5dd9",
   "metadata": {},
   "outputs": [],
   "source": [
    "#Count the number of unique countries in the dataset"
   ]
  },
  {
   "cell_type": "code",
   "execution_count": 133,
   "id": "02a5f1a8-74ba-4080-a2af-d498fd4459bf",
   "metadata": {},
   "outputs": [
    {
     "name": "stdout",
     "output_type": "stream",
     "text": [
      "\n",
      "Number of Unique Countries: 187\n"
     ]
    }
   ],
   "source": [
    "unique_countries = df['Country/Region'].nunique()\n",
    "print(\"\\nNumber of Unique Countries:\", unique_countries)"
   ]
  },
  {
   "cell_type": "code",
   "execution_count": 135,
   "id": "6758143e-82a7-49a6-84d7-3c23fba982de",
   "metadata": {},
   "outputs": [],
   "source": [
    "#Check for duplicate country entries and remove them"
   ]
  },
  {
   "cell_type": "code",
   "execution_count": 137,
   "id": "0ef1bd0a-59a1-4e09-9fa1-8b3af3f92ea3",
   "metadata": {},
   "outputs": [
    {
     "name": "stdout",
     "output_type": "stream",
     "text": [
      "\n",
      "Duplicates removed if found.\n",
      "\n",
      "Number of Unique Countries: 187\n"
     ]
    }
   ],
   "source": [
    "df = df.drop_duplicates(subset=['Country/Region'])\n",
    "print(\"\\nDuplicates removed if found.\")\n",
    "print(\"\\nNumber of Unique Countries:\", unique_countries)"
   ]
  },
  {
   "cell_type": "code",
   "execution_count": 139,
   "id": "075a8205-5420-4378-9206-4594a75cc637",
   "metadata": {},
   "outputs": [],
   "source": [
    "#Find the mean, median, and standard deviation of total cases"
   ]
  },
  {
   "cell_type": "code",
   "execution_count": 150,
   "id": "15904c0e-a545-4c1d-9237-7c9d9ea49035",
   "metadata": {},
   "outputs": [],
   "source": [
    "mean_cases = df[['New_cases', 'New_deaths', 'New_recovered', 'Deaths_/_100_Cases', 'Recovered_/_100_Cases']].mean()\n",
    "median_cases = df[['New_cases', 'New_deaths', 'New_recovered', 'Deaths_/_100_Cases', 'Recovered_/_100_Cases']].median()\n",
    "std_cases = df[['New_cases', 'New_deaths', 'New_recovered', 'Deaths_/_100_Cases', 'Recovered_/_100_Cases']].std()\n"
   ]
  },
  {
   "cell_type": "code",
   "execution_count": 152,
   "id": "4731f6c9-643b-42f7-993b-6411de2481c1",
   "metadata": {},
   "outputs": [
    {
     "name": "stdout",
     "output_type": "stream",
     "text": [
      "Index(['Country/Region', 'Confirmed', 'Deaths', 'Recovered', 'Active',\n",
      "       'New_cases', 'New_deaths', 'New_recovered', 'Deaths_/_100_Cases',\n",
      "       'Recovered_/_100_Cases', 'Deaths_/_100_Recovered',\n",
      "       'Confirmed_last_week', '1_week_change', '1_week_%_increase',\n",
      "       'WHO_Region'],\n",
      "      dtype='object')\n"
     ]
    }
   ],
   "source": [
    "print(df.columns)"
   ]
  },
  {
   "cell_type": "code",
   "execution_count": 156,
   "id": "555c5d81-3e60-489d-bb27-993c5e66a8df",
   "metadata": {},
   "outputs": [],
   "source": [
    "#Find out the string in Deaths Column and replace it with the mean of Deaths column"
   ]
  },
  {
   "cell_type": "code",
   "execution_count": 158,
   "id": "69255bd4-dd7f-4485-a749-7a89666cd7ac",
   "metadata": {},
   "outputs": [
    {
     "name": "stdout",
     "output_type": "stream",
     "text": [
      "Index\n",
      "0    1269.0\n",
      "1     144.0\n",
      "2    1163.0\n",
      "3      52.0\n",
      "4      41.0\n",
      "Name: Deaths, dtype: float64\n"
     ]
    },
    {
     "name": "stderr",
     "output_type": "stream",
     "text": [
      "C:\\Users\\shazia\\AppData\\Local\\Temp\\ipykernel_1548\\1141440787.py:2: FutureWarning: A value is trying to be set on a copy of a DataFrame or Series through chained assignment using an inplace method.\n",
      "The behavior will change in pandas 3.0. This inplace method will never work because the intermediate object on which we are setting values always behaves as a copy.\n",
      "\n",
      "For example, when doing 'df[col].method(value, inplace=True)', try using 'df.method({col: value}, inplace=True)' or df[col] = df[col].method(value) instead, to perform the operation inplace on the original object.\n",
      "\n",
      "\n",
      "  df['Deaths'].fillna(df['Deaths'].mean(), inplace=True)\n"
     ]
    }
   ],
   "source": [
    "df['Deaths'] = pd.to_numeric(df['Deaths'], errors='coerce')\n",
    "df['Deaths'].fillna(df['Deaths'].mean(), inplace=True)\n",
    "df['Deaths'] = df['Deaths'].astype(float)\n",
    "print(df['Deaths'].head())"
   ]
  },
  {
   "cell_type": "code",
   "execution_count": 160,
   "id": "38ca47d9-5241-4b88-a7c5-aa5c91582af5",
   "metadata": {},
   "outputs": [],
   "source": [
    "#Change the datatype of column Deaths"
   ]
  },
  {
   "cell_type": "code",
   "execution_count": 162,
   "id": "4e6b5b16-1a14-4a61-afae-0777def1bf03",
   "metadata": {},
   "outputs": [
    {
     "name": "stdout",
     "output_type": "stream",
     "text": [
      "float64\n"
     ]
    }
   ],
   "source": [
    "df['Deaths'] = df['Deaths'].astype(float)\n",
    "print(df.dtypes['Deaths'])"
   ]
  },
  {
   "cell_type": "code",
   "execution_count": 164,
   "id": "6b7960f9-821b-4402-8031-2b66c236705d",
   "metadata": {},
   "outputs": [],
   "source": [
    "#Calculate total number of Death and Recovery all over the world"
   ]
  },
  {
   "cell_type": "code",
   "execution_count": 166,
   "id": "1538f3e2-bdd0-4586-b1cd-a3a4fce9ba9b",
   "metadata": {},
   "outputs": [
    {
     "name": "stdout",
     "output_type": "stream",
     "text": [
      "Total Deaths Worldwide: 657516.1290322581\n",
      "Total Recoveries Worldwide: 9468087\n"
     ]
    }
   ],
   "source": [
    "total_deaths = df['Deaths'].sum()\n",
    "total_recoveries = df['Recovered'].sum()\n",
    "print(f\"Total Deaths Worldwide: {total_deaths}\")\n",
    "print(f\"Total Recoveries Worldwide: {total_recoveries}\")"
   ]
  },
  {
   "cell_type": "code",
   "execution_count": 168,
   "id": "3fe39484-0495-41ad-94fd-c66e229e3585",
   "metadata": {},
   "outputs": [],
   "source": [
    "#How many countries have more than 1 million total cases"
   ]
  },
  {
   "cell_type": "code",
   "execution_count": 176,
   "id": "c0a511bd-b8c5-4398-9a04-fe58cf7cfc0c",
   "metadata": {},
   "outputs": [
    {
     "name": "stdout",
     "output_type": "stream",
     "text": [
      "Number of countries with more than 1 million total cases: 3\n",
      "      Country/Region  Confirmed\n",
      "Index                          \n",
      "23            Brazil    2442375\n",
      "79             India    1480073\n",
      "173               US    4290259\n"
     ]
    }
   ],
   "source": [
    "high_case_countries = df[df['Confirmed'] > 1_000_000]\n",
    "print(f\"Number of countries with more than 1 million total cases: {high_case_countries.shape[0]}\")\n",
    "print(high_case_countries[['Country/Region', 'Confirmed']])"
   ]
  },
  {
   "cell_type": "code",
   "execution_count": null,
   "id": "363d3eef-31d1-49a5-9aab-b61dedd9e2d2",
   "metadata": {},
   "outputs": [],
   "source": [
    "#Which countries have a recovery rate (Recovered / Total Cases)above 95%"
   ]
  },
  {
   "cell_type": "code",
   "execution_count": 178,
   "id": "5ab6e0e0-8a7e-4f1d-8670-9427418fb33c",
   "metadata": {},
   "outputs": [
    {
     "name": "stdout",
     "output_type": "stream",
     "text": [
      "Number of countries with recovery rate above 95%: 12\n",
      "      Country/Region  Recovery_Rate\n",
      "Index                              \n",
      "24            Brunei      97.872340\n",
      "48          Djibouti      98.379126\n",
      "49          Dominica     100.000000\n",
      "69           Grenada     100.000000\n",
      "75          Holy See     100.000000\n",
      "78           Iceland      98.327940\n",
      "105         Malaysia      96.597035\n",
      "110        Mauritius      96.511628\n",
      "121      New Zealand      97.238279\n",
      "126           Norway      95.838809\n",
      "136            Qatar      97.017254\n",
      "164          Taiwan*      95.238095\n"
     ]
    }
   ],
   "source": [
    "df['Recovery_Rate'] = (df['Recovered'] / df['Confirmed']) * 100\n",
    "high_recovery_countries = df[df['Recovery_Rate'] > 95]\n",
    "print(f\"Number of countries with recovery rate above 95%: {high_recovery_countries.shape[0]}\")\n",
    "print(high_recovery_countries[['Country/Region', 'Recovery_Rate']])"
   ]
  },
  {
   "cell_type": "code",
   "execution_count": null,
   "id": "53c4c91a-16f3-4df6-810c-34f7d4c169c4",
   "metadata": {},
   "outputs": [],
   "source": [
    "#Drop columns name WHO Region and Confirmed"
   ]
  },
  {
   "cell_type": "code",
   "execution_count": 180,
   "id": "e6c655d8-4da5-48eb-9b23-13870c732573",
   "metadata": {},
   "outputs": [
    {
     "name": "stdout",
     "output_type": "stream",
     "text": [
      "      Country/Region  Deaths  Recovered  Active  New_cases  New_deaths  \\\n",
      "Index                                                                    \n",
      "0        Afghanistan  1269.0      25198    9796      106.0        10.0   \n",
      "1            Albania   144.0       2745    1991      117.0         6.0   \n",
      "2            Algeria  1163.0      18837    7973      616.0         8.0   \n",
      "3            Andorra    52.0        803      52       10.0         0.0   \n",
      "4             Angola    41.0        242     667       18.0         1.0   \n",
      "\n",
      "       New_recovered  Deaths_/_100_Cases  Recovered_/_100_Cases  \\\n",
      "Index                                                             \n",
      "0                 18                3.50                  69.49   \n",
      "1                 63                2.95                  56.25   \n",
      "2                749                4.16                  67.34   \n",
      "3                  0                5.73                  88.53   \n",
      "4                  0                4.32                  25.47   \n",
      "\n",
      "       Deaths_/_100_Recovered  Confirmed_last_week  1_week_change  \\\n",
      "Index                                                               \n",
      "0                        5.04                35526            737   \n",
      "1                        5.25                 4171            709   \n",
      "2                        6.17                23691           4282   \n",
      "3                        6.48                  884             23   \n",
      "4                       16.94                  749            201   \n",
      "\n",
      "       1_week_%_increase             WHO_Region  Recovery_Rate  \n",
      "Index                                                           \n",
      "0                   2.07  Eastern Mediterranean      69.486805  \n",
      "1                  17.00                 Europe      56.250000  \n",
      "2                  18.07                 Africa      67.339935  \n",
      "3                   2.60                 Europe      88.533627  \n",
      "4                  26.84                 Africa      25.473684  \n"
     ]
    }
   ],
   "source": [
    "df.drop(columns=['WHO Region', 'Confirmed'], inplace=True, errors='ignore')\n",
    "print(df.head())"
   ]
  },
  {
   "cell_type": "code",
   "execution_count": 182,
   "id": "af9541ae-9cdc-402b-9126-c7e39b7800a2",
   "metadata": {},
   "outputs": [],
   "source": [
    "#Find the Country with the Max Deaths"
   ]
  },
  {
   "cell_type": "code",
   "execution_count": 184,
   "id": "feef6583-15a1-4098-82bd-fb69f87818b5",
   "metadata": {},
   "outputs": [
    {
     "name": "stdout",
     "output_type": "stream",
     "text": [
      "Country with the Maximum Deaths: US\n"
     ]
    }
   ],
   "source": [
    "max_deaths_country = df.loc[df['Deaths'].idxmax(), 'Country/Region']\n",
    "print(f\"Country with the Maximum Deaths: {max_deaths_country}\")"
   ]
  },
  {
   "cell_type": "code",
   "execution_count": 186,
   "id": "c7c4d9f0-298d-424a-835c-1431c6ddf4d6",
   "metadata": {},
   "outputs": [],
   "source": [
    "#Sort Countries by Deaths (Descending Order)"
   ]
  },
  {
   "cell_type": "code",
   "execution_count": 188,
   "id": "14a281b4-a264-445c-863c-c5b449a43c51",
   "metadata": {},
   "outputs": [
    {
     "name": "stdout",
     "output_type": "stream",
     "text": [
      "         Country/Region    Deaths\n",
      "Index                            \n",
      "173                  US  148011.0\n",
      "23               Brazil   87618.0\n",
      "177      United Kingdom   45844.0\n",
      "111              Mexico   44022.0\n",
      "85                Italy   35112.0\n",
      "...                 ...       ...\n",
      "19               Bhutan       0.0\n",
      "130    Papua New Guinea       0.0\n",
      "75             Holy See       0.0\n",
      "30             Cambodia       0.0\n",
      "114            Mongolia       0.0\n",
      "\n",
      "[187 rows x 2 columns]\n"
     ]
    }
   ],
   "source": [
    "df_sorted = df.sort_values(by='Deaths', ascending=False)\n",
    "print(df_sorted[['Country/Region', 'Deaths']])"
   ]
  },
  {
   "cell_type": "code",
   "execution_count": 190,
   "id": "9b81d40e-6c20-48b7-9e52-c1ce46f01136",
   "metadata": {},
   "outputs": [],
   "source": [
    "#Make new column name Total_cases that have a sum of Deaths, Recovered , Active"
   ]
  },
  {
   "cell_type": "code",
   "execution_count": 192,
   "id": "9e01edab-9c28-457c-8961-1cb421896767",
   "metadata": {},
   "outputs": [
    {
     "name": "stdout",
     "output_type": "stream",
     "text": [
      "      Country/Region  Deaths  Recovered  Active  Total_cases\n",
      "Index                                                       \n",
      "0        Afghanistan  1269.0      25198    9796      36263.0\n",
      "1            Albania   144.0       2745    1991       4880.0\n",
      "2            Algeria  1163.0      18837    7973      27973.0\n",
      "3            Andorra    52.0        803      52        907.0\n",
      "4             Angola    41.0        242     667        950.0\n"
     ]
    }
   ],
   "source": [
    "df['Total_cases'] = df['Deaths'] + df['Recovered'] + df['Active']\n",
    "print(df[['Country/Region', 'Deaths', 'Recovered', 'Active', 'Total_cases']].head())"
   ]
  },
  {
   "cell_type": "code",
   "execution_count": 194,
   "id": "e97fc844-7539-48a3-8f89-a81028d18c47",
   "metadata": {},
   "outputs": [],
   "source": [
    "#Calculate Death_Rate for Each Country (Deaths per TotalCases) by suing formula (Deaths/Total_cases)*100 and save it in Dath_Rate column"
   ]
  },
  {
   "cell_type": "code",
   "execution_count": 196,
   "id": "58a7fd92-a8f3-4697-a3c7-045960aa7fdd",
   "metadata": {},
   "outputs": [
    {
     "name": "stdout",
     "output_type": "stream",
     "text": [
      "      Country/Region  Deaths  Total_cases  Death_Rate\n",
      "Index                                                \n",
      "0        Afghanistan  1269.0      36263.0    3.499435\n",
      "1            Albania   144.0       4880.0    2.950820\n",
      "2            Algeria  1163.0      27973.0    4.157581\n",
      "3            Andorra    52.0        907.0    5.733186\n",
      "4             Angola    41.0        950.0    4.315789\n"
     ]
    }
   ],
   "source": [
    "df['Death_Rate'] = (df['Deaths'] / df['Total_cases']) * 100\n",
    "print(df[['Country/Region', 'Deaths', 'Total_cases', 'Death_Rate']].head())"
   ]
  },
  {
   "cell_type": "code",
   "execution_count": 198,
   "id": "e19a2fc9-ef63-4591-8b31-39db72622b53",
   "metadata": {},
   "outputs": [],
   "source": [
    "#Identify countries where total cases are increasing but death rates remain low"
   ]
  },
  {
   "cell_type": "code",
   "execution_count": 200,
   "id": "31d23895-d17c-4a4c-af56-76a78b7ed5d9",
   "metadata": {},
   "outputs": [
    {
     "name": "stdout",
     "output_type": "stream",
     "text": [
      "Number of countries where cases are increasing but death rates remain low: 84\n",
      "             Country/Region  Total_cases  Active  Death_Rate\n",
      "Index                                                       \n",
      "6                 Argentina     167416.0   91782    1.827185\n",
      "7                   Armenia      37390.0   10014    1.901578\n",
      "8                 Australia      15303.0    5825    1.091289\n",
      "10               Azerbaijan      30446.0    6781    1.389345\n",
      "12                  Bahrain      39482.0    3231    0.357125\n",
      "...                     ...          ...     ...         ...\n",
      "176    United Arab Emirates      59177.0    6322    0.582997\n",
      "179              Uzbekistan      21209.0    9414    0.570513\n",
      "180               Venezuela      15988.0    5883    0.913185\n",
      "181                 Vietnam        431.0      66    0.000000\n",
      "182      West Bank and Gaza      10621.0    6791    0.734394\n",
      "\n",
      "[84 rows x 4 columns]\n"
     ]
    }
   ],
   "source": [
    "low_death_rate_threshold = 2  \n",
    "increasing_cases_low_death = df[(df['Active'] > 0) & (df['Death_Rate'] < low_death_rate_threshold)]\n",
    "print(f\"Number of countries where cases are increasing but death rates remain low: {increasing_cases_low_death.shape[0]}\")\n",
    "print(increasing_cases_low_death[['Country/Region', 'Total_cases', 'Active', 'Death_Rate']])"
   ]
  },
  {
   "cell_type": "code",
   "execution_count": 202,
   "id": "2b45e634-3705-4f9e-9374-faa2c858d342",
   "metadata": {},
   "outputs": [],
   "source": [
    "#Print head of only 2 columns Country/Region and Death_Rate"
   ]
  },
  {
   "cell_type": "code",
   "execution_count": 204,
   "id": "b45f0941-5a88-4497-b724-59d16dfe0e49",
   "metadata": {},
   "outputs": [
    {
     "name": "stdout",
     "output_type": "stream",
     "text": [
      "      Country/Region  Death_Rate\n",
      "Index                           \n",
      "0        Afghanistan    3.499435\n",
      "1            Albania    2.950820\n",
      "2            Algeria    4.157581\n",
      "3            Andorra    5.733186\n",
      "4             Angola    4.315789\n"
     ]
    }
   ],
   "source": [
    "print(df[['Country/Region', 'Death_Rate']].head())"
   ]
  },
  {
   "cell_type": "code",
   "execution_count": 206,
   "id": "0cf0a1f9-3017-4341-bfb3-8afe327f3481",
   "metadata": {},
   "outputs": [],
   "source": [
    "#Create a scatter plot comparing total cases and total deaths"
   ]
  },
  {
   "cell_type": "code",
   "execution_count": 208,
   "id": "4952179d-ac92-45ae-b6bc-8f51e36cf54c",
   "metadata": {},
   "outputs": [
    {
     "data": {
      "image/png": "[encoded data removed]",
      "text/plain": [
       "<Figure size 1000x600 with 1 Axes>"
      ]
     },
     "metadata": {},
     "output_type": "display_data"
    }
   ],
   "source": [
    "import matplotlib.pyplot as plt\n",
    "import seaborn as sns\n",
    "plt.figure(figsize=(10, 6))\n",
    "sns.scatterplot(x=df['Total_cases'], y=df['Deaths'])\n",
    "plt.xlabel(\"Total Cases\")\n",
    "plt.ylabel(\"Total Deaths\")\n",
    "plt.title(\"Scatter Plot of Total Cases vs. Total Deaths\")\n",
    "plt.show()\n"
   ]
  },
  {
   "cell_type": "code",
   "execution_count": 212,
   "id": "48e228b1-d094-4b1e-ba22-c0c0c883e6d5",
   "metadata": {},
   "outputs": [],
   "source": [
    "#Save dataset in CSV format"
   ]
  },
  {
   "cell_type": "code",
   "execution_count": 214,
   "id": "e0bd27aa-a50a-4a03-8ac2-4c8d331b653c",
   "metadata": {},
   "outputs": [
    {
     "name": "stdout",
     "output_type": "stream",
     "text": [
      "Dataset saved as 'updated_covid_data.csv'\n"
     ]
    }
   ],
   "source": [
    "df.to_csv(\"updated_covid_data.csv\", index=False)\n",
    "print(\"Dataset saved as 'updated_covid_data.csv'\")\n"
   ]
  },
  {
   "cell_type": "code",
   "execution_count": null,
   "id": "96f27704-a2e7-4ddb-908c-93121caf94e8",
   "metadata": {},
   "outputs": [],
   "source": []
  }
 ],
 "metadata": {
  "kernelspec": {
   "display_name": "Python 3 (ipykernel)",
   "language": "python",
   "name": "python3"
  },
  "language_info": {
   "codemirror_mode": {
    "name": "ipython",
    "version": 3
   },
   "file_extension": ".py",
   "mimetype": "text/x-python",
   "name": "python",
   "nbconvert_exporter": "python",
   "pygments_lexer": "ipython3",
   "version": "3.12.7"
  }
 },
 "nbformat": 4,
 "nbformat_minor": 5
}
